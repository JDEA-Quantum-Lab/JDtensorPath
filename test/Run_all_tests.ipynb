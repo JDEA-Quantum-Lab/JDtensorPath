{
 "cells": [
  {
   "cell_type": "code",
   "execution_count": 1,
   "id": "b15a67f6-8692-45a5-806a-2d1442103b64",
   "metadata": {},
   "outputs": [],
   "source": [
    "from test_all import run_the_test"
   ]
  },
  {
   "cell_type": "code",
   "execution_count": 2,
   "id": "7cd89cf8-3f67-4ae4-81ba-c30fe27639ed",
   "metadata": {},
   "outputs": [
    {
     "name": "stdout",
     "output_type": "stream",
     "text": [
      " \n",
      "Star testing hypergraph function!\n",
      " \n",
      "test HyperGraph construction ok!\n",
      "test HyperGraph properties ok!\n",
      " \n",
      "Finish hypergraph function test, everything ok!\n",
      " \n",
      " \n",
      " \n",
      "Star testing contraction tree function!\n",
      " \n",
      "test tree construction ok!\n",
      "test tree get all nodes function ok!\n",
      " \n",
      "Finish contraction tree function test, everything ok!\n",
      " \n",
      " \n",
      " \n",
      "Star testing slicing function!\n",
      " \n",
      "test slicing remove most intersect ok!\n",
      "test slicing remove most larges ok!\n",
      " \n",
      "Finish slicing function test, everything ok!\n",
      " \n",
      " \n",
      " \n",
      "Star testing JD_opt_tn helpers function!\n",
      " \n",
      "test all helpers function ok!\n",
      " \n",
      "Finish JD_opt_tn helpers function test, everything ok!\n",
      " \n",
      " \n",
      "All the tests pass! congratulation! Now you can play with JDtensorPath together with TeD-Q, good luck~!\n"
     ]
    }
   ],
   "source": [
    "run_the_test()"
   ]
  },
  {
   "cell_type": "code",
   "execution_count": null,
   "id": "675c92da-55fe-44af-9287-1cbf8d007a86",
   "metadata": {},
   "outputs": [],
   "source": []
  }
 ],
 "metadata": {
  "kernelspec": {
   "display_name": "Python 3 (ipykernel)",
   "language": "python",
   "name": "python3"
  },
  "language_info": {
   "codemirror_mode": {
    "name": "ipython",
    "version": 3
   },
   "file_extension": ".py",
   "mimetype": "text/x-python",
   "name": "python",
   "nbconvert_exporter": "python",
   "pygments_lexer": "ipython3",
   "version": "3.8.10"
  }
 },
 "nbformat": 4,
 "nbformat_minor": 5
}
